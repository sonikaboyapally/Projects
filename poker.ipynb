{
 "cells": [
  {
   "cell_type": "code",
   "execution_count": 1,
   "id": "fd67b25f",
   "metadata": {},
   "outputs": [],
   "source": [
    "import pandas as pd\n",
    "import numpy as np\n",
    "import matplotlib.pyplot as plt\n",
    "import seaborn as sns"
   ]
  },
  {
   "cell_type": "code",
   "execution_count": 2,
   "id": "9b828300",
   "metadata": {},
   "outputs": [],
   "source": [
    "train= pd.read_csv(r\"C:\\Users\\sonik\\Downloads\\poker\\poker-hand-training.csv\")\n",
    "test= pd.read_csv(r\"C:\\Users\\sonik\\Downloads\\poker\\poker-hand-testing.csv\")"
   ]
  },
  {
   "cell_type": "code",
   "execution_count": 3,
   "id": "1aad1b5c",
   "metadata": {},
   "outputs": [
    {
     "data": {
      "text/html": [
       "<div>\n",
       "<style scoped>\n",
       "    .dataframe tbody tr th:only-of-type {\n",
       "        vertical-align: middle;\n",
       "    }\n",
       "\n",
       "    .dataframe tbody tr th {\n",
       "        vertical-align: top;\n",
       "    }\n",
       "\n",
       "    .dataframe thead th {\n",
       "        text-align: right;\n",
       "    }\n",
       "</style>\n",
       "<table border=\"1\" class=\"dataframe\">\n",
       "  <thead>\n",
       "    <tr style=\"text-align: right;\">\n",
       "      <th></th>\n",
       "      <th>Suit of Card 1</th>\n",
       "      <th>Rank of Card 1</th>\n",
       "      <th>Suit of Card 2</th>\n",
       "      <th>Rank of Card 2</th>\n",
       "      <th>Suit of Card 3</th>\n",
       "      <th>Rank of Card 3</th>\n",
       "      <th>Suit of Card 4</th>\n",
       "      <th>Rank of Card 4</th>\n",
       "      <th>Suit of Card 5</th>\n",
       "      <th>Rank of Card 5</th>\n",
       "      <th>Poker Hand</th>\n",
       "    </tr>\n",
       "  </thead>\n",
       "  <tbody>\n",
       "    <tr>\n",
       "      <th>0</th>\n",
       "      <td>1</td>\n",
       "      <td>1</td>\n",
       "      <td>1</td>\n",
       "      <td>13</td>\n",
       "      <td>2</td>\n",
       "      <td>4</td>\n",
       "      <td>2</td>\n",
       "      <td>3</td>\n",
       "      <td>1</td>\n",
       "      <td>12</td>\n",
       "      <td>0</td>\n",
       "    </tr>\n",
       "    <tr>\n",
       "      <th>1</th>\n",
       "      <td>3</td>\n",
       "      <td>12</td>\n",
       "      <td>3</td>\n",
       "      <td>2</td>\n",
       "      <td>3</td>\n",
       "      <td>11</td>\n",
       "      <td>4</td>\n",
       "      <td>5</td>\n",
       "      <td>2</td>\n",
       "      <td>5</td>\n",
       "      <td>1</td>\n",
       "    </tr>\n",
       "    <tr>\n",
       "      <th>2</th>\n",
       "      <td>1</td>\n",
       "      <td>9</td>\n",
       "      <td>4</td>\n",
       "      <td>6</td>\n",
       "      <td>1</td>\n",
       "      <td>4</td>\n",
       "      <td>3</td>\n",
       "      <td>2</td>\n",
       "      <td>3</td>\n",
       "      <td>9</td>\n",
       "      <td>1</td>\n",
       "    </tr>\n",
       "    <tr>\n",
       "      <th>3</th>\n",
       "      <td>1</td>\n",
       "      <td>4</td>\n",
       "      <td>3</td>\n",
       "      <td>13</td>\n",
       "      <td>2</td>\n",
       "      <td>13</td>\n",
       "      <td>2</td>\n",
       "      <td>1</td>\n",
       "      <td>3</td>\n",
       "      <td>6</td>\n",
       "      <td>1</td>\n",
       "    </tr>\n",
       "    <tr>\n",
       "      <th>4</th>\n",
       "      <td>3</td>\n",
       "      <td>10</td>\n",
       "      <td>2</td>\n",
       "      <td>7</td>\n",
       "      <td>1</td>\n",
       "      <td>2</td>\n",
       "      <td>2</td>\n",
       "      <td>11</td>\n",
       "      <td>4</td>\n",
       "      <td>9</td>\n",
       "      <td>0</td>\n",
       "    </tr>\n",
       "  </tbody>\n",
       "</table>\n",
       "</div>"
      ],
      "text/plain": [
       "   Suit of Card 1  Rank of Card 1  Suit of Card 2  Rank of Card 2  \\\n",
       "0               1               1               1              13   \n",
       "1               3              12               3               2   \n",
       "2               1               9               4               6   \n",
       "3               1               4               3              13   \n",
       "4               3              10               2               7   \n",
       "\n",
       "   Suit of Card 3  Rank of Card 3  Suit of Card 4  Rank of Card 4  \\\n",
       "0               2               4               2               3   \n",
       "1               3              11               4               5   \n",
       "2               1               4               3               2   \n",
       "3               2              13               2               1   \n",
       "4               1               2               2              11   \n",
       "\n",
       "   Suit of Card 5  Rank of Card 5  Poker Hand  \n",
       "0               1              12           0  \n",
       "1               2               5           1  \n",
       "2               3               9           1  \n",
       "3               3               6           1  \n",
       "4               4               9           0  "
      ]
     },
     "execution_count": 3,
     "metadata": {},
     "output_type": "execute_result"
    }
   ],
   "source": [
    "test.head()"
   ]
  },
  {
   "cell_type": "code",
   "execution_count": 4,
   "id": "4e663357",
   "metadata": {},
   "outputs": [],
   "source": [
    "train.columns= ['s1','r1','s2','r2','s3','r3','s4','r4','s5','r5','hand']\n",
    "test.columns= ['s1','r1','s2','r2','s3','r3','s4','r4','s5','r5','hand']"
   ]
  },
  {
   "cell_type": "code",
   "execution_count": 5,
   "id": "1974fcc7",
   "metadata": {},
   "outputs": [
    {
     "data": {
      "text/plain": [
       "s1      int64\n",
       "r1      int64\n",
       "s2      int64\n",
       "r2      int64\n",
       "s3      int64\n",
       "r3      int64\n",
       "s4      int64\n",
       "r4      int64\n",
       "s5      int64\n",
       "r5      int64\n",
       "hand    int64\n",
       "dtype: object"
      ]
     },
     "execution_count": 5,
     "metadata": {},
     "output_type": "execute_result"
    }
   ],
   "source": [
    "train.dtypes"
   ]
  },
  {
   "cell_type": "code",
   "execution_count": 6,
   "id": "bb9f9b68",
   "metadata": {},
   "outputs": [
    {
     "data": {
      "text/plain": [
       "<AxesSubplot:xlabel='hand', ylabel='Count'>"
      ]
     },
     "execution_count": 6,
     "metadata": {},
     "output_type": "execute_result"
    },
    {
     "data": {
      "image/png": "[encoded data removed]",
      "text/plain": [
       "<Figure size 640x480 with 2 Axes>"
      ]
     },
     "metadata": {},
     "output_type": "display_data"
    }
   ],
   "source": [
    "ax1=plt.subplot(121)\n",
    "sns.histplot(data=train, x='hand', ax=ax1)\n",
    "ax2=plt.subplot(122)\n",
    "sns.histplot(data=test, x='hand', ax=ax2)"
   ]
  },
  {
   "cell_type": "code",
   "execution_count": 7,
   "id": "22c329a9",
   "metadata": {},
   "outputs": [
    {
     "data": {
      "text/plain": [
       "array([9, 8, 1, 0, 4, 3, 2, 5, 6, 7], dtype=int64)"
      ]
     },
     "execution_count": 7,
     "metadata": {},
     "output_type": "execute_result"
    }
   ],
   "source": [
    "train['hand'].unique()"
   ]
  },
  {
   "cell_type": "code",
   "execution_count": 8,
   "id": "221be26b",
   "metadata": {},
   "outputs": [
    {
     "data": {
      "text/plain": [
       "25010"
      ]
     },
     "execution_count": 8,
     "metadata": {},
     "output_type": "execute_result"
    }
   ],
   "source": [
    "len(train)"
   ]
  },
  {
   "cell_type": "code",
   "execution_count": 9,
   "id": "d5802ea6",
   "metadata": {},
   "outputs": [],
   "source": [
    "def flush(row):\n",
    "    if row['s1']==row['s2']==row['s3']==row['s4']==row['s5']:\n",
    "        return 1\n",
    "    else:\n",
    "        return 0"
   ]
  },
  {
   "cell_type": "code",
   "execution_count": 10,
   "id": "6c76fffe",
   "metadata": {},
   "outputs": [],
   "source": [
    "def royal(row):\n",
    "    r=[]\n",
    "    for i in range(0,5):\n",
    "        r.append(row['r'+str(i+1)])\n",
    "    r.sort()\n",
    "    return_val=0\n",
    "    if r[0]==1:\n",
    "        for i in range(1,5):\n",
    "            if r[i]==9+i:\n",
    "                return_val=1            \n",
    "            else:\n",
    "                break         \n",
    "    return return_val"
   ]
  },
  {
   "cell_type": "code",
   "execution_count": 11,
   "id": "5502623a",
   "metadata": {},
   "outputs": [],
   "source": [
    "def straight(row):\n",
    "    r=[]\n",
    "    for i in range(0,5):\n",
    "        r.append(row['r'+str(i+1)])\n",
    "    r.sort()\n",
    "    \n",
    "    return_val=1\n",
    "    for i in range(0,4):\n",
    "        if r[i]==r[i+1]-1:\n",
    "            pass\n",
    "        else:\n",
    "            return_val = 0\n",
    "            break\n",
    "    return return_val"
   ]
  },
  {
   "cell_type": "code",
   "execution_count": 20,
   "id": "615c2092",
   "metadata": {},
   "outputs": [],
   "source": [
    "def pairs(row):\n",
    "    r=[]\n",
    "    for i in range(0,5):\n",
    "        r.append(row['r'+str(i+1)])\n",
    "    r.sort()\n",
    "    rr=pd.Series(r)\n",
    "    return_val=0\n",
    "    if rr.nunique()<5:\n",
    "        if rr.nunique()==4:\n",
    "            return_val = 1\n",
    "        elif rr.nunique()==3:\n",
    "            if 3 in rr.value_counts().values:\n",
    "                return_val=3\n",
    "            elif 2 in rr.value_counts().values:\n",
    "                return_val=2\n",
    "        elif rr.nunique()==2:\n",
    "            if 4 in rr.value_counts().values:\n",
    "                return_val=4\n",
    "            elif 2 in rr.value_counts().values:\n",
    "                return_val=6\n",
    "    else:\n",
    "            return_val=0\n",
    "                 \n",
    "                \n",
    "    return return_val"
   ]
  },
  {
   "cell_type": "code",
   "execution_count": 21,
   "id": "592fc324",
   "metadata": {},
   "outputs": [],
   "source": [
    "def check_hand(row):\n",
    "    return_val=0   \n",
    "    if pairs(row)!=0:\n",
    "        return pairs(row)\n",
    "    elif flush(row)==1:\n",
    "        if royal(row)==1:\n",
    "            return_val=9\n",
    "        elif straight(row)==1:\n",
    "            return_val=8\n",
    "        else:\n",
    "            return_val=5\n",
    "    else:\n",
    "        if straight(row)==1:\n",
    "            return_val=6\n",
    "        else:\n",
    "            return_val=0\n",
    "    return return_val"
   ]
  },
  {
   "cell_type": "code",
   "execution_count": 27,
   "id": "6d89de68",
   "metadata": {},
   "outputs": [
    {
     "name": "stdout",
     "output_type": "stream",
     "text": [
      "1\n",
      "[1, 2, 3, 1, 2]\n",
      "[1, 1, 3, 5, 9]\n"
     ]
    }
   ],
   "source": [
    "t=train.iloc[10,:]\n",
    "print(check_hand(t))\n",
    "series=[t['s1'],t['s2'],t['s3'],t['s4'],t['s5']]\n",
    "ranks=[t['r1'],t['r2'],t['r3'],t['r4'],t['r5']]\n",
    "ranks.sort()\n",
    "print(series)\n",
    "print(ranks)"
   ]
  },
  {
   "cell_type": "code",
   "execution_count": 23,
   "id": "b72b6d2a",
   "metadata": {},
   "outputs": [],
   "source": [
    "def extract_card(row):\n",
    "    details={}\n",
    "    keys=['s1','r1','s2','r2','s3','r3','s4','r4','s5','r5']\n",
    "    for i in range(0,10):\n",
    "        details[keys[i]]=row[i]\n",
    "        \n",
    "    return details"
   ]
  },
  {
   "cell_type": "code",
   "execution_count": 30,
   "id": "d97311de",
   "metadata": {},
   "outputs": [
    {
     "data": {
      "text/plain": [
       "0        True\n",
       "1        True\n",
       "2        True\n",
       "3        True\n",
       "4        True\n",
       "         ... \n",
       "25005    True\n",
       "25006    True\n",
       "25007    True\n",
       "25008    True\n",
       "25009    True\n",
       "Length: 25010, dtype: bool"
      ]
     },
     "execution_count": 30,
     "metadata": {},
     "output_type": "execute_result"
    }
   ],
   "source": [
    "for i in range(0,len(train)):\n",
    "    row=train.iloc[i,:]\n",
    "    train['predicted'][i]=check_hand(row)\n",
    "train['hand']==train['predicted']"
   ]
  },
  {
   "cell_type": "code",
   "execution_count": null,
   "id": "06e58ee1",
   "metadata": {},
   "outputs": [],
   "source": []
  }
 ],
 "metadata": {
  "kernelspec": {
   "display_name": "Python 3 (ipykernel)",
   "language": "python",
   "name": "python3"
  },
  "language_info": {
   "codemirror_mode": {
    "name": "ipython",
    "version": 3
   },
   "file_extension": ".py",
   "mimetype": "text/x-python",
   "name": "python",
   "nbconvert_exporter": "python",
   "pygments_lexer": "ipython3",
   "version": "3.9.13"
  }
 },
 "nbformat": 4,
 "nbformat_minor": 5
}
